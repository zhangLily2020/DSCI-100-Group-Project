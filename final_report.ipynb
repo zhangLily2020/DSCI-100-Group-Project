{
 "cells": [
  {
   "cell_type": "markdown",
   "metadata": {},
   "source": [
    "# DSCI100: Group31 Project Report\n",
    "### Members\n",
    "- Divya Gupta\n",
    "- Arshdeep Jassi\n",
    "- Cassiel Jung\n",
    "- Lily Zhang\n",
    "\n",
    "## 1.0 Introduction\n",
    "When watching tennis games, players who have high rank seem to have a similar physique. Our team got curious if there is a certain favorable body type for a tennis player. Thus, throughout this project, we are going to answer the question **“What is the relationship between the physique of players and their probability of winning?”**. To answer the question, the dataset *‘Game results for Top 500 Players from 2017-2019’* will be used which contains the data of each tennis game played by Top 500 Players. Each row corresponds to each game and it includes information of players such as their height, age, and hand.\n",
    "\n",
    "## 2.0 Method & Results\n",
    "Libraries to use:\n",
    "1. tidyverse: to use read_csv/ggplot and many other basic data analysis functions\n",
    "2. repre: to represent string/binary variables\n",
    "3. tidymodels: to use regression model later"
   ]
  },
  {
   "cell_type": "code",
   "execution_count": 2,
   "metadata": {},
   "outputs": [
    {
     "name": "stderr",
     "output_type": "stream",
     "text": [
      "── \u001b[1mAttaching packages\u001b[22m ─────────────────────────────────────── tidyverse 1.3.0 ──\n",
      "\n",
      "\u001b[32m✔\u001b[39m \u001b[34mggplot2\u001b[39m 3.3.2     \u001b[32m✔\u001b[39m \u001b[34mpurrr  \u001b[39m 0.3.4\n",
      "\u001b[32m✔\u001b[39m \u001b[34mtibble \u001b[39m 3.0.3     \u001b[32m✔\u001b[39m \u001b[34mdplyr  \u001b[39m 1.0.2\n",
      "\u001b[32m✔\u001b[39m \u001b[34mtidyr  \u001b[39m 1.1.2     \u001b[32m✔\u001b[39m \u001b[34mstringr\u001b[39m 1.4.0\n",
      "\u001b[32m✔\u001b[39m \u001b[34mreadr  \u001b[39m 1.3.1     \u001b[32m✔\u001b[39m \u001b[34mforcats\u001b[39m 0.5.0\n",
      "\n",
      "Warning message:\n",
      "“package ‘ggplot2’ was built under R version 4.0.1”\n",
      "Warning message:\n",
      "“package ‘tibble’ was built under R version 4.0.2”\n",
      "Warning message:\n",
      "“package ‘tidyr’ was built under R version 4.0.2”\n",
      "Warning message:\n",
      "“package ‘dplyr’ was built under R version 4.0.2”\n",
      "── \u001b[1mConflicts\u001b[22m ────────────────────────────────────────── tidyverse_conflicts() ──\n",
      "\u001b[31m✖\u001b[39m \u001b[34mdplyr\u001b[39m::\u001b[32mfilter()\u001b[39m masks \u001b[34mstats\u001b[39m::filter()\n",
      "\u001b[31m✖\u001b[39m \u001b[34mdplyr\u001b[39m::\u001b[32mlag()\u001b[39m    masks \u001b[34mstats\u001b[39m::lag()\n",
      "\n",
      "Warning message:\n",
      "“package ‘tidymodels’ was built under R version 4.0.2”\n",
      "── \u001b[1mAttaching packages\u001b[22m ────────────────────────────────────── tidymodels 0.1.1 ──\n",
      "\n",
      "\u001b[32m✔\u001b[39m \u001b[34mbroom    \u001b[39m 0.7.0      \u001b[32m✔\u001b[39m \u001b[34mrecipes  \u001b[39m 0.1.13\n",
      "\u001b[32m✔\u001b[39m \u001b[34mdials    \u001b[39m 0.0.9      \u001b[32m✔\u001b[39m \u001b[34mrsample  \u001b[39m 0.0.7 \n",
      "\u001b[32m✔\u001b[39m \u001b[34minfer    \u001b[39m 0.5.4      \u001b[32m✔\u001b[39m \u001b[34mtune     \u001b[39m 0.1.1 \n",
      "\u001b[32m✔\u001b[39m \u001b[34mmodeldata\u001b[39m 0.0.2      \u001b[32m✔\u001b[39m \u001b[34mworkflows\u001b[39m 0.2.0 \n",
      "\u001b[32m✔\u001b[39m \u001b[34mparsnip  \u001b[39m 0.1.3      \u001b[32m✔\u001b[39m \u001b[34myardstick\u001b[39m 0.0.7 \n",
      "\n",
      "Warning message:\n",
      "“package ‘broom’ was built under R version 4.0.2”\n",
      "Warning message:\n",
      "“package ‘dials’ was built under R version 4.0.2”\n",
      "Warning message:\n",
      "“package ‘infer’ was built under R version 4.0.3”\n",
      "Warning message:\n",
      "“package ‘modeldata’ was built under R version 4.0.1”\n",
      "Warning message:\n",
      "“package ‘parsnip’ was built under R version 4.0.2”\n",
      "Warning message:\n",
      "“package ‘recipes’ was built under R version 4.0.1”\n",
      "Warning message:\n",
      "“package ‘tune’ was built under R version 4.0.2”\n",
      "Warning message:\n",
      "“package ‘workflows’ was built under R version 4.0.2”\n",
      "Warning message:\n",
      "“package ‘yardstick’ was built under R version 4.0.2”\n",
      "── \u001b[1mConflicts\u001b[22m ───────────────────────────────────────── tidymodels_conflicts() ──\n",
      "\u001b[31m✖\u001b[39m \u001b[34mscales\u001b[39m::\u001b[32mdiscard()\u001b[39m masks \u001b[34mpurrr\u001b[39m::discard()\n",
      "\u001b[31m✖\u001b[39m \u001b[34mdplyr\u001b[39m::\u001b[32mfilter()\u001b[39m   masks \u001b[34mstats\u001b[39m::filter()\n",
      "\u001b[31m✖\u001b[39m \u001b[34mrecipes\u001b[39m::\u001b[32mfixed()\u001b[39m  masks \u001b[34mstringr\u001b[39m::fixed()\n",
      "\u001b[31m✖\u001b[39m \u001b[34mdplyr\u001b[39m::\u001b[32mlag()\u001b[39m      masks \u001b[34mstats\u001b[39m::lag()\n",
      "\u001b[31m✖\u001b[39m \u001b[34myardstick\u001b[39m::\u001b[32mspec()\u001b[39m masks \u001b[34mreadr\u001b[39m::spec()\n",
      "\u001b[31m✖\u001b[39m \u001b[34mrecipes\u001b[39m::\u001b[32mstep()\u001b[39m   masks \u001b[34mstats\u001b[39m::step()\n",
      "\n"
     ]
    }
   ],
   "source": [
    "library(tidyverse)\n",
    "library(repr)\n",
    "library(tidymodels)"
   ]
  },
  {
   "cell_type": "markdown",
   "metadata": {},
   "source": [
    "### 2.1 Read data from the web\n",
    "Loading dataset from the google drive using read_csv() function"
   ]
  },
  {
   "cell_type": "code",
   "execution_count": 3,
   "metadata": {},
   "outputs": [
    {
     "name": "stderr",
     "output_type": "stream",
     "text": [
      "Warning message:\n",
      "“Missing column names filled in: 'X1' [1]”\n",
      "Parsed with column specification:\n",
      "cols(\n",
      "  .default = col_double(),\n",
      "  tourney_id = \u001b[31mcol_character()\u001b[39m,\n",
      "  tourney_name = \u001b[31mcol_character()\u001b[39m,\n",
      "  surface = \u001b[31mcol_character()\u001b[39m,\n",
      "  tourney_level = \u001b[31mcol_character()\u001b[39m,\n",
      "  winner_seed = \u001b[31mcol_character()\u001b[39m,\n",
      "  winner_entry = \u001b[31mcol_character()\u001b[39m,\n",
      "  winner_name = \u001b[31mcol_character()\u001b[39m,\n",
      "  winner_hand = \u001b[31mcol_character()\u001b[39m,\n",
      "  winner_ioc = \u001b[31mcol_character()\u001b[39m,\n",
      "  loser_seed = \u001b[31mcol_character()\u001b[39m,\n",
      "  loser_entry = \u001b[31mcol_character()\u001b[39m,\n",
      "  loser_name = \u001b[31mcol_character()\u001b[39m,\n",
      "  loser_hand = \u001b[31mcol_character()\u001b[39m,\n",
      "  loser_ioc = \u001b[31mcol_character()\u001b[39m,\n",
      "  score = \u001b[31mcol_character()\u001b[39m,\n",
      "  round = \u001b[31mcol_character()\u001b[39m\n",
      ")\n",
      "\n",
      "See spec(...) for full column specifications.\n",
      "\n"
     ]
    },
    {
     "data": {
      "text/html": [
       "<table>\n",
       "<caption>A tibble: 6 × 50</caption>\n",
       "<thead>\n",
       "\t<tr><th scope=col>X1</th><th scope=col>tourney_id</th><th scope=col>tourney_name</th><th scope=col>surface</th><th scope=col>draw_size</th><th scope=col>tourney_level</th><th scope=col>tourney_date</th><th scope=col>match_num</th><th scope=col>winner_id</th><th scope=col>winner_seed</th><th scope=col>⋯</th><th scope=col>l_1stIn</th><th scope=col>l_1stWon</th><th scope=col>l_2ndWon</th><th scope=col>l_SvGms</th><th scope=col>l_bpSaved</th><th scope=col>l_bpFaced</th><th scope=col>winner_rank</th><th scope=col>winner_rank_points</th><th scope=col>loser_rank</th><th scope=col>loser_rank_points</th></tr>\n",
       "\t<tr><th scope=col>&lt;dbl&gt;</th><th scope=col>&lt;chr&gt;</th><th scope=col>&lt;chr&gt;</th><th scope=col>&lt;chr&gt;</th><th scope=col>&lt;dbl&gt;</th><th scope=col>&lt;chr&gt;</th><th scope=col>&lt;dbl&gt;</th><th scope=col>&lt;dbl&gt;</th><th scope=col>&lt;dbl&gt;</th><th scope=col>&lt;chr&gt;</th><th scope=col>⋯</th><th scope=col>&lt;dbl&gt;</th><th scope=col>&lt;dbl&gt;</th><th scope=col>&lt;dbl&gt;</th><th scope=col>&lt;dbl&gt;</th><th scope=col>&lt;dbl&gt;</th><th scope=col>&lt;dbl&gt;</th><th scope=col>&lt;dbl&gt;</th><th scope=col>&lt;dbl&gt;</th><th scope=col>&lt;dbl&gt;</th><th scope=col>&lt;dbl&gt;</th></tr>\n",
       "</thead>\n",
       "<tbody>\n",
       "\t<tr><td>0</td><td>2019-M020</td><td>Brisbane</td><td>Hard</td><td>32</td><td>A</td><td>20181231</td><td>300</td><td>105453</td><td>2 </td><td>⋯</td><td>54</td><td>34</td><td>20</td><td>14</td><td>10</td><td>15</td><td>  9</td><td>3590</td><td> 16</td><td>1977</td></tr>\n",
       "\t<tr><td>1</td><td>2019-M020</td><td>Brisbane</td><td>Hard</td><td>32</td><td>A</td><td>20181231</td><td>299</td><td>106421</td><td>4 </td><td>⋯</td><td>52</td><td>36</td><td> 7</td><td>10</td><td>10</td><td>13</td><td> 16</td><td>1977</td><td>239</td><td> 200</td></tr>\n",
       "\t<tr><td>2</td><td>2019-M020</td><td>Brisbane</td><td>Hard</td><td>32</td><td>A</td><td>20181231</td><td>298</td><td>105453</td><td>2 </td><td>⋯</td><td>27</td><td>15</td><td> 6</td><td> 8</td><td> 1</td><td> 5</td><td>  9</td><td>3590</td><td> 40</td><td>1050</td></tr>\n",
       "\t<tr><td>3</td><td>2019-M020</td><td>Brisbane</td><td>Hard</td><td>32</td><td>A</td><td>20181231</td><td>297</td><td>104542</td><td>NA</td><td>⋯</td><td>60</td><td>38</td><td> 9</td><td>11</td><td> 4</td><td> 6</td><td>239</td><td> 200</td><td> 31</td><td>1298</td></tr>\n",
       "\t<tr><td>4</td><td>2019-M020</td><td>Brisbane</td><td>Hard</td><td>32</td><td>A</td><td>20181231</td><td>296</td><td>106421</td><td>4 </td><td>⋯</td><td>56</td><td>46</td><td>19</td><td>15</td><td> 2</td><td> 4</td><td> 16</td><td>1977</td><td> 18</td><td>1855</td></tr>\n",
       "\t<tr><td>5</td><td>2019-M020</td><td>Brisbane</td><td>Hard</td><td>32</td><td>A</td><td>20181231</td><td>295</td><td>104871</td><td>NA</td><td>⋯</td><td>54</td><td>40</td><td>18</td><td>15</td><td> 6</td><td> 9</td><td> 40</td><td>1050</td><td>185</td><td> 275</td></tr>\n",
       "</tbody>\n",
       "</table>\n"
      ],
      "text/latex": [
       "A tibble: 6 × 50\n",
       "\\begin{tabular}{lllllllllllllllllllll}\n",
       " X1 & tourney\\_id & tourney\\_name & surface & draw\\_size & tourney\\_level & tourney\\_date & match\\_num & winner\\_id & winner\\_seed & ⋯ & l\\_1stIn & l\\_1stWon & l\\_2ndWon & l\\_SvGms & l\\_bpSaved & l\\_bpFaced & winner\\_rank & winner\\_rank\\_points & loser\\_rank & loser\\_rank\\_points\\\\\n",
       " <dbl> & <chr> & <chr> & <chr> & <dbl> & <chr> & <dbl> & <dbl> & <dbl> & <chr> & ⋯ & <dbl> & <dbl> & <dbl> & <dbl> & <dbl> & <dbl> & <dbl> & <dbl> & <dbl> & <dbl>\\\\\n",
       "\\hline\n",
       "\t 0 & 2019-M020 & Brisbane & Hard & 32 & A & 20181231 & 300 & 105453 & 2  & ⋯ & 54 & 34 & 20 & 14 & 10 & 15 &   9 & 3590 &  16 & 1977\\\\\n",
       "\t 1 & 2019-M020 & Brisbane & Hard & 32 & A & 20181231 & 299 & 106421 & 4  & ⋯ & 52 & 36 &  7 & 10 & 10 & 13 &  16 & 1977 & 239 &  200\\\\\n",
       "\t 2 & 2019-M020 & Brisbane & Hard & 32 & A & 20181231 & 298 & 105453 & 2  & ⋯ & 27 & 15 &  6 &  8 &  1 &  5 &   9 & 3590 &  40 & 1050\\\\\n",
       "\t 3 & 2019-M020 & Brisbane & Hard & 32 & A & 20181231 & 297 & 104542 & NA & ⋯ & 60 & 38 &  9 & 11 &  4 &  6 & 239 &  200 &  31 & 1298\\\\\n",
       "\t 4 & 2019-M020 & Brisbane & Hard & 32 & A & 20181231 & 296 & 106421 & 4  & ⋯ & 56 & 46 & 19 & 15 &  2 &  4 &  16 & 1977 &  18 & 1855\\\\\n",
       "\t 5 & 2019-M020 & Brisbane & Hard & 32 & A & 20181231 & 295 & 104871 & NA & ⋯ & 54 & 40 & 18 & 15 &  6 &  9 &  40 & 1050 & 185 &  275\\\\\n",
       "\\end{tabular}\n"
      ],
      "text/markdown": [
       "\n",
       "A tibble: 6 × 50\n",
       "\n",
       "| X1 &lt;dbl&gt; | tourney_id &lt;chr&gt; | tourney_name &lt;chr&gt; | surface &lt;chr&gt; | draw_size &lt;dbl&gt; | tourney_level &lt;chr&gt; | tourney_date &lt;dbl&gt; | match_num &lt;dbl&gt; | winner_id &lt;dbl&gt; | winner_seed &lt;chr&gt; | ⋯ ⋯ | l_1stIn &lt;dbl&gt; | l_1stWon &lt;dbl&gt; | l_2ndWon &lt;dbl&gt; | l_SvGms &lt;dbl&gt; | l_bpSaved &lt;dbl&gt; | l_bpFaced &lt;dbl&gt; | winner_rank &lt;dbl&gt; | winner_rank_points &lt;dbl&gt; | loser_rank &lt;dbl&gt; | loser_rank_points &lt;dbl&gt; |\n",
       "|---|---|---|---|---|---|---|---|---|---|---|---|---|---|---|---|---|---|---|---|---|\n",
       "| 0 | 2019-M020 | Brisbane | Hard | 32 | A | 20181231 | 300 | 105453 | 2  | ⋯ | 54 | 34 | 20 | 14 | 10 | 15 |   9 | 3590 |  16 | 1977 |\n",
       "| 1 | 2019-M020 | Brisbane | Hard | 32 | A | 20181231 | 299 | 106421 | 4  | ⋯ | 52 | 36 |  7 | 10 | 10 | 13 |  16 | 1977 | 239 |  200 |\n",
       "| 2 | 2019-M020 | Brisbane | Hard | 32 | A | 20181231 | 298 | 105453 | 2  | ⋯ | 27 | 15 |  6 |  8 |  1 |  5 |   9 | 3590 |  40 | 1050 |\n",
       "| 3 | 2019-M020 | Brisbane | Hard | 32 | A | 20181231 | 297 | 104542 | NA | ⋯ | 60 | 38 |  9 | 11 |  4 |  6 | 239 |  200 |  31 | 1298 |\n",
       "| 4 | 2019-M020 | Brisbane | Hard | 32 | A | 20181231 | 296 | 106421 | 4  | ⋯ | 56 | 46 | 19 | 15 |  2 |  4 |  16 | 1977 |  18 | 1855 |\n",
       "| 5 | 2019-M020 | Brisbane | Hard | 32 | A | 20181231 | 295 | 104871 | NA | ⋯ | 54 | 40 | 18 | 15 |  6 |  9 |  40 | 1050 | 185 |  275 |\n",
       "\n"
      ],
      "text/plain": [
       "  X1 tourney_id tourney_name surface draw_size tourney_level tourney_date\n",
       "1 0  2019-M020  Brisbane     Hard    32        A             20181231    \n",
       "2 1  2019-M020  Brisbane     Hard    32        A             20181231    \n",
       "3 2  2019-M020  Brisbane     Hard    32        A             20181231    \n",
       "4 3  2019-M020  Brisbane     Hard    32        A             20181231    \n",
       "5 4  2019-M020  Brisbane     Hard    32        A             20181231    \n",
       "6 5  2019-M020  Brisbane     Hard    32        A             20181231    \n",
       "  match_num winner_id winner_seed ⋯ l_1stIn l_1stWon l_2ndWon l_SvGms l_bpSaved\n",
       "1 300       105453    2           ⋯ 54      34       20       14      10       \n",
       "2 299       106421    4           ⋯ 52      36        7       10      10       \n",
       "3 298       105453    2           ⋯ 27      15        6        8       1       \n",
       "4 297       104542    NA          ⋯ 60      38        9       11       4       \n",
       "5 296       106421    4           ⋯ 56      46       19       15       2       \n",
       "6 295       104871    NA          ⋯ 54      40       18       15       6       \n",
       "  l_bpFaced winner_rank winner_rank_points loser_rank loser_rank_points\n",
       "1 15          9         3590                16        1977             \n",
       "2 13         16         1977               239         200             \n",
       "3  5          9         3590                40        1050             \n",
       "4  6        239          200                31        1298             \n",
       "5  4         16         1977                18        1855             \n",
       "6  9         40         1050               185         275             "
      ]
     },
     "metadata": {},
     "output_type": "display_data"
    }
   ],
   "source": [
    "tennis_raw_data <- read_csv(\"https://drive.google.com/uc?export=download&id=1fOQ8sy_qMkQiQEAO6uFdRX4tLI8EpSTn\")\n",
    "head(tennis_raw_data)"
   ]
  },
  {
   "cell_type": "markdown",
   "metadata": {},
   "source": [
    "### 2.2 Clean and Wrangling the dataset"
   ]
  },
  {
   "cell_type": "markdown",
   "metadata": {},
   "source": [
    "The original data downloded from web contains information of each game. However, since we want to analyze how each player's physique is related to their probability of winning, we need to clean the data a bit. We followed below process to get the probability of winning per year for each players.\n",
    "1. round up winner's age with round(). Our dataset contains data from 2017 to 2019 and represent age in decimal, to calculate probability of winning in each year round up the age to whole number was required. \n",
    "3. get winner's height, hand and number of winning in each year using group_by() and summarise() functions.\n",
    "4. remove duplicate using unique() function.\n"
   ]
  },
  {
   "cell_type": "code",
   "execution_count": 4,
   "metadata": {},
   "outputs": [
    {
     "name": "stderr",
     "output_type": "stream",
     "text": [
      "`summarise()` regrouping output by 'winner_id', 'age' (override with `.groups` argument)\n",
      "\n",
      "`summarise()` regrouping output by 'loser_id', 'age' (override with `.groups` argument)\n",
      "\n",
      "`summarise()` regrouping output by 'player_id', 'age' (override with `.groups` argument)\n",
      "\n"
     ]
    },
    {
     "data": {
      "text/html": [
       "<table>\n",
       "<caption>A grouped_df: 6 × 7</caption>\n",
       "<thead>\n",
       "\t<tr><th scope=col>player_id</th><th scope=col>age</th><th scope=col>height</th><th scope=col>hand</th><th scope=col>num_winning</th><th scope=col>num_losing</th><th scope=col>prob_winning</th></tr>\n",
       "\t<tr><th scope=col>&lt;dbl&gt;</th><th scope=col>&lt;dbl&gt;</th><th scope=col>&lt;dbl&gt;</th><th scope=col>&lt;dbl&gt;</th><th scope=col>&lt;dbl&gt;</th><th scope=col>&lt;dbl&gt;</th><th scope=col>&lt;dbl&gt;</th></tr>\n",
       "</thead>\n",
       "<tbody>\n",
       "\t<tr><td>103852</td><td>23</td><td>188</td><td>0</td><td> 0</td><td>8</td><td>0.00</td></tr>\n",
       "\t<tr><td>103852</td><td>30</td><td>188</td><td>0</td><td> 0</td><td>9</td><td>0.00</td></tr>\n",
       "\t<tr><td>103852</td><td>36</td><td>188</td><td>0</td><td>24</td><td>1</td><td>0.96</td></tr>\n",
       "\t<tr><td>103852</td><td>37</td><td>188</td><td>0</td><td>15</td><td>0</td><td>1.00</td></tr>\n",
       "\t<tr><td>103852</td><td>38</td><td>188</td><td>0</td><td>10</td><td>0</td><td>1.00</td></tr>\n",
       "\t<tr><td>104269</td><td>23</td><td>188</td><td>0</td><td> 0</td><td>9</td><td>0.00</td></tr>\n",
       "</tbody>\n",
       "</table>\n"
      ],
      "text/latex": [
       "A grouped\\_df: 6 × 7\n",
       "\\begin{tabular}{lllllll}\n",
       " player\\_id & age & height & hand & num\\_winning & num\\_losing & prob\\_winning\\\\\n",
       " <dbl> & <dbl> & <dbl> & <dbl> & <dbl> & <dbl> & <dbl>\\\\\n",
       "\\hline\n",
       "\t 103852 & 23 & 188 & 0 &  0 & 8 & 0.00\\\\\n",
       "\t 103852 & 30 & 188 & 0 &  0 & 9 & 0.00\\\\\n",
       "\t 103852 & 36 & 188 & 0 & 24 & 1 & 0.96\\\\\n",
       "\t 103852 & 37 & 188 & 0 & 15 & 0 & 1.00\\\\\n",
       "\t 103852 & 38 & 188 & 0 & 10 & 0 & 1.00\\\\\n",
       "\t 104269 & 23 & 188 & 0 &  0 & 9 & 0.00\\\\\n",
       "\\end{tabular}\n"
      ],
      "text/markdown": [
       "\n",
       "A grouped_df: 6 × 7\n",
       "\n",
       "| player_id &lt;dbl&gt; | age &lt;dbl&gt; | height &lt;dbl&gt; | hand &lt;dbl&gt; | num_winning &lt;dbl&gt; | num_losing &lt;dbl&gt; | prob_winning &lt;dbl&gt; |\n",
       "|---|---|---|---|---|---|---|\n",
       "| 103852 | 23 | 188 | 0 |  0 | 8 | 0.00 |\n",
       "| 103852 | 30 | 188 | 0 |  0 | 9 | 0.00 |\n",
       "| 103852 | 36 | 188 | 0 | 24 | 1 | 0.96 |\n",
       "| 103852 | 37 | 188 | 0 | 15 | 0 | 1.00 |\n",
       "| 103852 | 38 | 188 | 0 | 10 | 0 | 1.00 |\n",
       "| 104269 | 23 | 188 | 0 |  0 | 9 | 0.00 |\n",
       "\n"
      ],
      "text/plain": [
       "  player_id age height hand num_winning num_losing prob_winning\n",
       "1 103852    23  188    0     0          8          0.00        \n",
       "2 103852    30  188    0     0          9          0.00        \n",
       "3 103852    36  188    0    24          1          0.96        \n",
       "4 103852    37  188    0    15          0          1.00        \n",
       "5 103852    38  188    0    10          0          1.00        \n",
       "6 104269    23  188    0     0          9          0.00        "
      ]
     },
     "metadata": {},
     "output_type": "display_data"
    }
   ],
   "source": [
    "winner_data <- tennis_raw_data %>%\n",
    "                mutate(age = round(winner_age, digit = 0)) %>%\n",
    "                group_by(winner_id, age) %>%\n",
    "                summarise(height = winner_ht, hand = winner_hand, num_winning = n()) %>%\n",
    "                rename(player_id = winner_id) %>%\n",
    "                unique()\n",
    "\n",
    "loser_data <- tennis_raw_data %>%\n",
    "                mutate(age = round(winner_age, digit = 0)) %>%\n",
    "                group_by(loser_id, age) %>%\n",
    "                summarise(height = loser_ht, hand = loser_hand, num_losing = n()) %>%\n",
    "                rename(player_id = loser_id) %>%\n",
    "                unique()\n",
    "\n",
    "tennis_clean <- bind_rows(winner_data, loser_data) %>%\n",
    "                as_tibble() %>%\n",
    "                replace_na(list(num_winning = 0, num_losing = 0)) %>%\n",
    "                group_by(player_id, age) %>%\n",
    "                summarize(height = height, \n",
    "                          hand = hand, \n",
    "                          num_winning = sum(num_winning), \n",
    "                          num_losing = sum(num_losing),\n",
    "                          prob_winning = (num_winning / (num_winning + num_losing))) %>%\n",
    "                unique()\n",
    "tennis_clean <- tennis_clean[complete.cases(tennis_clean),] %>%\n",
    "                filter((num_winning + num_losing) >= 8)\n",
    "\n",
    "tennis_left <- filter(tennis_clean, hand == \"L\") %>%\n",
    "                mutate(hand = 0)\n",
    "\n",
    "tennis_right <- filter(tennis_clean, hand == \"R\") %>%\n",
    "                mutate(hand = 1)\n",
    "\n",
    "tennis_clean <- rbind(tennis_left, tennis_right)\n",
    "head(tennis_clean)"
   ]
  },
  {
   "cell_type": "markdown",
   "metadata": {},
   "source": [
    "### 2.3 Splitting dataset\n",
    "Split dataset into two: 75% of train set and 25% of test set"
   ]
  },
  {
   "cell_type": "code",
   "execution_count": 5,
   "metadata": {},
   "outputs": [],
   "source": [
    "set.seed(42) \n",
    "tennis_split <- initial_split(tennis_clean, prop = 0.75)  \n",
    "tennis_train <- training(tennis_split)\n",
    "tennis_test <- testing(tennis_split)"
   ]
  },
  {
   "cell_type": "markdown",
   "metadata": {},
   "source": [
    "### 2.4 Summarize data\n",
    "#### 2.4.1 Summarize quantitative variables\n",
    "One of the metrics that can be explored is the average values of the quantitative variables we are considering in the analysis such as height and age. The table below shows the average height (in cm) and age (years) of both the winners and the losers. As seen below, the average height and age of both winners and losers is similar."
   ]
  },
  {
   "cell_type": "code",
   "execution_count": 6,
   "metadata": {},
   "outputs": [
    {
     "data": {
      "text/html": [
       "<table>\n",
       "<caption>A tibble: 1 × 4</caption>\n",
       "<thead>\n",
       "\t<tr><th scope=col>avg_win_height</th><th scope=col>avg_win_age</th><th scope=col>avg_loser_height</th><th scope=col>avg_loser_age</th></tr>\n",
       "\t<tr><th scope=col>&lt;dbl&gt;</th><th scope=col>&lt;dbl&gt;</th><th scope=col>&lt;dbl&gt;</th><th scope=col>&lt;dbl&gt;</th></tr>\n",
       "</thead>\n",
       "<tbody>\n",
       "\t<tr><td>186.5343</td><td>27.68495</td><td>186.1811</td><td>27.49811</td></tr>\n",
       "</tbody>\n",
       "</table>\n"
      ],
      "text/latex": [
       "A tibble: 1 × 4\n",
       "\\begin{tabular}{llll}\n",
       " avg\\_win\\_height & avg\\_win\\_age & avg\\_loser\\_height & avg\\_loser\\_age\\\\\n",
       " <dbl> & <dbl> & <dbl> & <dbl>\\\\\n",
       "\\hline\n",
       "\t 186.5343 & 27.68495 & 186.1811 & 27.49811\\\\\n",
       "\\end{tabular}\n"
      ],
      "text/markdown": [
       "\n",
       "A tibble: 1 × 4\n",
       "\n",
       "| avg_win_height &lt;dbl&gt; | avg_win_age &lt;dbl&gt; | avg_loser_height &lt;dbl&gt; | avg_loser_age &lt;dbl&gt; |\n",
       "|---|---|---|---|\n",
       "| 186.5343 | 27.68495 | 186.1811 | 27.49811 |\n",
       "\n"
      ],
      "text/plain": [
       "  avg_win_height avg_win_age avg_loser_height avg_loser_age\n",
       "1 186.5343       27.68495    186.1811         27.49811     "
      ]
     },
     "metadata": {},
     "output_type": "display_data"
    }
   ],
   "source": [
    "tennis_avg_summarization <- tennis_raw_data %>% \n",
    "    select(winner_ht, winner_age, loser_ht, loser_age) %>% \n",
    "    summarize(avg_win_height = mean(winner_ht, na.rm = TRUE),\n",
    "              avg_win_age = mean(winner_age, na.rm = TRUE), \n",
    "              avg_loser_height = mean(loser_ht, na.rm = TRUE), \n",
    "              avg_loser_age = mean(loser_age, na.rm = TRUE))\n",
    "\n",
    "tennis_avg_summarization"
   ]
  },
  {
   "cell_type": "markdown",
   "metadata": {},
   "source": [
    "#### 2.4.2 Summarize categorical variable\n",
    "There is one more variable we are considering for the analysis which is handedness of the players. Since it is a categorical variable, to explore the number of games won with each dominant hand, we can just count up the number of winners for each dominant hand. This can be seen in the following table."
   ]
  },
  {
   "cell_type": "code",
   "execution_count": 7,
   "metadata": {},
   "outputs": [
    {
     "ename": "ERROR",
     "evalue": "Error: Can't subset columns that don't exist.\n\u001b[31m✖\u001b[39m Column `winner_hand` doesn't exist.\n",
     "output_type": "error",
     "traceback": [
      "Error: Can't subset columns that don't exist.\n\u001b[31m✖\u001b[39m Column `winner_hand` doesn't exist.\nTraceback:\n",
      "1. tennis_train %>% select(winner_hand) %>% group_by(winner_hand) %>% \n .     summarize(number_winners = n())",
      "2. withVisible(eval(quote(`_fseq`(`_lhs`)), env, env))",
      "3. eval(quote(`_fseq`(`_lhs`)), env, env)",
      "4. eval(quote(`_fseq`(`_lhs`)), env, env)",
      "5. `_fseq`(`_lhs`)",
      "6. freduce(value, `_function_list`)",
      "7. function_list[[i]](value)",
      "8. select(., winner_hand)",
      "9. select.data.frame(., winner_hand)",
      "10. tidyselect::eval_select(expr(c(...)), .data)",
      "11. eval_select_impl(data, names(data), as_quosure(expr, env), include = include, \n  .     exclude = exclude, strict = strict, name_spec = name_spec, \n  .     allow_rename = allow_rename)",
      "12. with_subscript_errors(vars_select_eval(vars, expr, strict, data = x, \n  .     name_spec = name_spec, uniquely_named = uniquely_named, allow_rename = allow_rename, \n  .     type = type), type = type)",
      "13. tryCatch(instrument_base_errors(expr), vctrs_error_subscript = function(cnd) {\n  .     cnd$subscript_action <- subscript_action(type)\n  .     cnd$subscript_elt <- \"column\"\n  .     cnd_signal(cnd)\n  . })",
      "14. tryCatchList(expr, classes, parentenv, handlers)",
      "15. tryCatchOne(expr, names, parentenv, handlers[[1L]])",
      "16. value[[3L]](cond)",
      "17. cnd_signal(cnd)",
      "18. rlang:::signal_abort(x)"
     ]
    }
   ],
   "source": [
    "tennis_num_winners_hand <- tennis_train %>% \n",
    "    select(winner_hand) %>% \n",
    "    group_by(winner_hand) %>% \n",
    "    summarize(number_winners = n())\n",
    "\n",
    "tennis_num_winners_hand"
   ]
  },
  {
   "cell_type": "markdown",
   "metadata": {},
   "source": [
    "### 2.5 Visualize summarized data\n",
    "#### 2.5.1 Winning games vs Winner's handedness\n",
    "By using the tennis_num_winners_hand assigned previously, a visual representation can be created that compares the number of games won with the different handedness of players using bar plots. Colour-blind friendly colours were also added to help better visualize the plot. This was done using the ggplot and geom_bar functions."
   ]
  },
  {
   "cell_type": "code",
   "execution_count": null,
   "metadata": {
    "jupyter": {
     "source_hidden": true
    }
   },
   "outputs": [],
   "source": [
    "options(repr.plot.height = 7, repr.plot.width = 12)\n",
    "library(RColorBrewer)\n",
    "\n",
    "winning_hand_visual <- ggplot(tennis_num_winners_hand, aes(x = winner_hand, y = number_winners, fill = winner_hand)) +\n",
    "                            geom_bar(stat = \"identity\") +\n",
    "                            labs(x = \"Main hand\", y = \"Number of games won\", fill = \"Winner's main hand used for the game\") +\n",
    "                            ggtitle(\"Winning games vs. Winner's main hand\") +\n",
    "                            theme(text = element_text(size = 20)) +\n",
    "                            scale_fill_brewer(palette = 'Paired')\n",
    "\n",
    "winning_hand_visual\n",
    "\n"
   ]
  },
  {
   "cell_type": "markdown",
   "metadata": {},
   "source": [
    "#### 2.5.2 Winning games vs Winner's height\n",
    "By using the testing data set, a histogram can be produced that visualizes the distribution of winning games for winner’s heights. This was done using the ggplot and geom_histogram functions."
   ]
  },
  {
   "cell_type": "code",
   "execution_count": null,
   "metadata": {},
   "outputs": [],
   "source": [
    "options(repr.plot.height = 7, repr.plot.width = 8)\n",
    "winning_height_visual <- tennis_train %>%\n",
    "                    ggplot(aes(x = winner_ht)) +\n",
    "                    geom_histogram(bins = 20) +\n",
    "                    labs(x = \"Winner's height (cm)\", y = \"Number of games won\") +\n",
    "                    ggtitle(\"Winning games vs. Winner's height\") +\n",
    "                    theme(text = element_text(size = 20))\n",
    "                    \n",
    "\n",
    "winning_height_visual\n"
   ]
  },
  {
   "cell_type": "markdown",
   "metadata": {},
   "source": [
    "### 2.4.3 Winning games vs Winner's age\n",
    "Similar to the previous graph and using the same data, a histogram is also used to visualize the distribution of the winning games for the winner’s age. This was done using the ggplot and geom_histogram functions."
   ]
  },
  {
   "cell_type": "code",
   "execution_count": null,
   "metadata": {
    "jupyter": {
     "source_hidden": true
    }
   },
   "outputs": [],
   "source": [
    "options(repr.plot.height = 7, repr.plot.width = 8)\n",
    "winning_age_visual <- tennis_train %>%\n",
    "                    ggplot(aes(x = winner_age)) +\n",
    "                    geom_histogram(bins = 30) +\n",
    "                    labs(x = \"Winner's age (years)\", y = \"Number of games won\") +\n",
    "                    ggtitle(\"Winning games vs. Winner's age\") +\n",
    "                    theme(text = element_text(size = 20))\n",
    "                    \n",
    "\n",
    "winning_age_visual\n"
   ]
  },
  {
   "cell_type": "markdown",
   "metadata": {},
   "source": [
    "### 2.5 Data Analysis"
   ]
  },
  {
   "cell_type": "code",
   "execution_count": null,
   "metadata": {},
   "outputs": [],
   "source": [
    "# create recipe\n",
    "tennis_recipe <- recipe()"
   ]
  },
  {
   "cell_type": "markdown",
   "metadata": {},
   "source": [
    "#### 2.5.1 knn Regression"
   ]
  },
  {
   "cell_type": "code",
   "execution_count": null,
   "metadata": {},
   "outputs": [],
   "source": [
    "set.seed(1234)\n",
    "\n",
    "tennis_spec <- nearest_neighbor(weight_func = \"rectangular\", neighbors = tune()) %>% \n",
    "      set_engine(\"kknn\") %>%\n",
    "      set_mode(\"regression\") \n",
    "\n",
    "tennis_recipe <- recipe(prob_winning ~ height + age + hand, data = tennis_train) %>%\n",
    "      step_scale(all_predictors()) %>%\n",
    "      step_center(all_predictors())\n",
    "\n",
    "tennis_recipe"
   ]
  },
  {
   "cell_type": "code",
   "execution_count": null,
   "metadata": {},
   "outputs": [],
   "source": [
    "set.seed(1234)\n",
    "tennis_vfold <- vfold_cv(tennis_train, v = 5, strata = prob_winning)\n",
    "tennis_workflow <- workflow() %>%\n",
    "                add_recipe(tennis_recipe) %>%\n",
    "                add_model(tennis_spec)\n",
    "tennis_workflow"
   ]
  },
  {
   "cell_type": "code",
   "execution_count": null,
   "metadata": {},
   "outputs": [],
   "source": [
    "set.seed(2019)\n",
    "gridvals <- tibble(neighbors = seq(from = 1, to = 100))\n",
    "\n",
    "tennis_results <- tennis_workflow %>%\n",
    "            tune_grid(resamples = tennis_vfold, grid = gridvals) %>%\n",
    "            collect_metrics() %>%\n",
    "            filter(.metric == \"rmse\")\n",
    "            \n",
    "\n",
    "head(tennis_results)"
   ]
  },
  {
   "cell_type": "code",
   "execution_count": null,
   "metadata": {},
   "outputs": [],
   "source": [
    "# visualize the change in neighbours\n",
    "tennis_results_plot <- ggplot(tennis_results, aes(x = neighbors, y = mean)) +\n",
    "                        geom_line() +\n",
    "                        xlab(\"Neighbours\") +\n",
    "                        ylab(\"RMSPE\") + \n",
    "                        ggtitle(\"RMSPE vs. Number of neighbours \") + \n",
    "                        theme(text = element_text(size = 16))\n",
    "                        \n",
    "tennis_results_plot"
   ]
  },
  {
   "cell_type": "code",
   "execution_count": null,
   "metadata": {},
   "outputs": [],
   "source": [
    "set.seed(2020)\n",
    "\n",
    "tennis_min <- tennis_results %>%\n",
    "   filter(.metric == \"rmse\") %>%\n",
    "   arrange(mean) %>% \n",
    "   slice(1)\n",
    "\n",
    "tennis_min"
   ]
  },
  {
   "cell_type": "code",
   "execution_count": null,
   "metadata": {},
   "outputs": [],
   "source": [
    "set.seed(1234)\n",
    "\n",
    "k_min <- tennis_min %>%\n",
    "         pull(neighbors)\n",
    "tennis_best_spec <- nearest_neighbor(weight_func = \"rectangular\", neighbors = k_min) %>%\n",
    "         set_engine(\"kknn\") %>%\n",
    "         set_mode(\"regression\")\n",
    "\n",
    "tennis_best_fit <- workflow() %>%\n",
    "         add_recipe(tennis_recipe) %>%\n",
    "         add_model(tennis_best_spec) %>%\n",
    "         fit(data = tennis_train)\n",
    "\n",
    "tennis_summary <- tennis_best_fit %>%\n",
    "          predict(tennis_test) %>%\n",
    "          bind_cols(tennis_test) %>%\n",
    "          metrics(truth = prob_winning, estimate = .pred)\n",
    "\n",
    "tennis_summary"
   ]
  },
  {
   "cell_type": "code",
   "execution_count": null,
   "metadata": {},
   "outputs": [],
   "source": [
    "set.seed(2019)\n",
    "\n",
    "options(repr.plot.width = 7, repr.plot.height = 7)\n",
    "\n",
    "tennis_preds <- predict(tennis_best_fit, tennis_train) %>%\n",
    "          bind_cols(tennis_train)\n",
    "\n",
    "tennis_plot_height <- ggplot(tennis_preds, aes(x = height, y = prob_winning, colour = hand)) +\n",
    "            geom_point(alpha = 0.5) +\n",
    "            geom_line(data = tennis_preds,\n",
    "            mapping = aes(x = height, y = .pred), color = \"blue\") +\n",
    "            xlab(\"Tennis player's height (cm)\") +\n",
    "            ylab(\"Probability of winning\") + \n",
    "            ggtitle(\"Probability of winning vs. tennis player's height\") + \n",
    "            theme(text = element_text(size = 16))\n",
    "\n",
    "tennis_plot_age <- ggplot(tennis_preds, aes(x = age, y = prob_winning, colour = hand)) +\n",
    "            geom_point(alpha = 0.5) +\n",
    "            geom_line(data = tennis_preds,\n",
    "            mapping = aes(x = age, y = .pred), color = \"blue\") +\n",
    "            xlab(\"Tennis player's age (year)\") +\n",
    "            ylab(\"Probability of winning\") + \n",
    "            ggtitle(\"Probability of winning vs. tennis player's age\") + \n",
    "            theme(text = element_text(size = 17))\n",
    "\n",
    "tennis_plot_height\n",
    "tennis_plot_age"
   ]
  },
  {
   "cell_type": "markdown",
   "metadata": {},
   "source": [
    "## Linear Regression"
   ]
  },
  {
   "cell_type": "code",
   "execution_count": null,
   "metadata": {},
   "outputs": [],
   "source": [
    "tennis_reg_recipe <- recipe(prob_winning ~ height + age + hand, data = tennis_train)\n",
    "\n",
    "tennis_reg_spec <- linear_reg() %>% \n",
    "    set_engine(\"lm\") %>% \n",
    "    set_mode(\"regression\")\n",
    "\n",
    "tennis_reg_recipe"
   ]
  },
  {
   "cell_type": "code",
   "execution_count": null,
   "metadata": {},
   "outputs": [],
   "source": [
    "tennis_reg_fit <- workflow() %>% \n",
    "    add_recipe(tennis_reg_recipe) %>% \n",
    "    add_model(tennis_reg_spec) %>% \n",
    "    fit(data = tennis_train)\n",
    "\n",
    "tennis_reg_fit"
   ]
  },
  {
   "cell_type": "code",
   "execution_count": null,
   "metadata": {},
   "outputs": [],
   "source": [
    "tennis_reg_results <- tennis_reg_fit %>% \n",
    "    predict(tennis_test) %>% \n",
    "    bind_cols(tennis_test) %>% \n",
    "    metrics(truth = prob_winning, estimate = .pred)\n",
    "tennis_reg_results"
   ]
  },
  {
   "cell_type": "code",
   "execution_count": null,
   "metadata": {},
   "outputs": [],
   "source": [
    "tennis_reg_coeffs <- tennis_reg_fit %>% \n",
    "    pull_workflow_fit() %>% \n",
    "    tidy()\n",
    "\n",
    "tennis_reg_coeffs"
   ]
  },
  {
   "cell_type": "markdown",
   "metadata": {},
   "source": [
    "The mathematical equation for the plane is:\n",
    "    \n",
    "    prob_winning = 0.112 + 0.00025 * (height) + 0.016 * (age) + 0.119 * (hand)"
   ]
  },
  {
   "cell_type": "markdown",
   "metadata": {},
   "source": [
    "## 3.0 Discussion\n",
    "\n",
    "\n",
    "## 4.0 References\n",
    "\n"
   ]
  },
  {
   "cell_type": "code",
   "execution_count": null,
   "metadata": {},
   "outputs": [],
   "source": []
  }
 ],
 "metadata": {
  "kernelspec": {
   "display_name": "R",
   "language": "R",
   "name": "ir"
  },
  "language_info": {
   "codemirror_mode": "r",
   "file_extension": ".r",
   "mimetype": "text/x-r-source",
   "name": "R",
   "pygments_lexer": "r",
   "version": "4.0.0"
  }
 },
 "nbformat": 4,
 "nbformat_minor": 4
}
